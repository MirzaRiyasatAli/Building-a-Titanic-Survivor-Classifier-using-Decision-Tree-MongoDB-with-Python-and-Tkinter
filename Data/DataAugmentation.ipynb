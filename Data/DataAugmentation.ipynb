{
  "nbformat": 4,
  "nbformat_minor": 0,
  "metadata": {
    "colab": {
      "provenance": []
    },
    "kernelspec": {
      "name": "python3",
      "display_name": "Python 3"
    },
    "language_info": {
      "name": "python"
    }
  },
  "cells": [
    {
      "cell_type": "markdown",
      "source": [
        "#DataAugmentation"
      ],
      "metadata": {
        "id": "PojX_vs1oJDP"
      }
    },
    {
      "cell_type": "code",
      "source": [
        "import pandas as pd\n",
        "\n",
        "# Load the CSV data into a DataFrame\n",
        "input_csv_file = \"/content/Titanic.csv\"\n",
        "df = pd.read_csv(input_csv_file)\n",
        "\n",
        "# Define the number of times you want to duplicate each row\n",
        "augmentation_factor = 3  # You can adjust this as needed\n",
        "\n",
        "# Perform data augmentation by duplicating rows\n",
        "augmented_df = pd.concat([df] * augmentation_factor, ignore_index=True)\n",
        "\n",
        "# Save the augmented data to a new CSV file\n",
        "output_csv_file = \"augmented_data.csv\"\n",
        "augmented_df.to_csv(output_csv_file, index=False)\n",
        "\n",
        "print(f\"Data augmentation complete. {augmentation_factor} times more rows were added to the dataset.\")"
      ],
      "metadata": {
        "id": "Cb-hthWJoLYq"
      },
      "execution_count": null,
      "outputs": []
    }
  ]
}